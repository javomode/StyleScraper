{
 "cells": [
  {
   "cell_type": "code",
   "execution_count": 46,
   "metadata": {},
   "outputs": [],
   "source": [
    "from selenium import webdriver\n",
    "from selenium.webdriver.chrome.service import Service as ChromeService #\n",
    "from selenium.webdriver.common.by import By #to help identify elements on page\n",
    "from webdriver_manager.chrome import ChromeDriverManager #webdriver to perform browser automation on real browsers\n",
    "from selenium.webdriver.common.keys import Keys\n",
    "\n",
    "#to help catch issues, i.e. element we expect to find does not exist/takes too long to load\n",
    "from selenium.webdriver.support.ui import WebDriverWait\n",
    "from selenium.webdriver.support import expected_conditions as EC\n",
    "\n",
    "import time\n",
    "import requests\n",
    "import pandas as pd\n"
   ]
  },
  {
   "cell_type": "code",
   "execution_count": 50,
   "metadata": {},
   "outputs": [
    {
     "data": {
      "text/plain": [
       "<selenium.webdriver.remote.webelement.WebElement (session=\"a22a012e9f9a3bff2f570ec9274cc56d\", element=\"f.98C869571A802B99BEF4F0AF83EBBAEC.d.40D65A720F526EEB22F32C52FB0BC8A9.e.14\")>"
      ]
     },
     "execution_count": 50,
     "metadata": {},
     "output_type": "execute_result"
    }
   ],
   "source": [
    "service = ChromeService(executable_path=\"chromedriver.exe\")\n",
    "wd = webdriver.Chrome(service=service)\n",
    "\n",
    "wd.get(\"https://youtube.com/\")\n",
    "\n",
    "WebDriverWait(wd, 5).until(\n",
    "    EC.presence_of_elements_located((By.CLASS_NAME, \"external_icon\"))\n",
    ")\n",
    "\n",
    "input_element = wd.find_element(By.CLASS_NAME, \"external-icon\")\n",
    "input_element"
   ]
  }
 ],
 "metadata": {
  "kernelspec": {
   "display_name": "Python 3",
   "language": "python",
   "name": "python3"
  },
  "language_info": {
   "codemirror_mode": {
    "name": "ipython",
    "version": 3
   },
   "file_extension": ".py",
   "mimetype": "text/x-python",
   "name": "python",
   "nbconvert_exporter": "python",
   "pygments_lexer": "ipython3",
   "version": "3.12.1"
  }
 },
 "nbformat": 4,
 "nbformat_minor": 2
}
